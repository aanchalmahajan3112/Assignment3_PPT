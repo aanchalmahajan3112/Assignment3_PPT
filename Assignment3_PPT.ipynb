{
  "nbformat": 4,
  "nbformat_minor": 0,
  "metadata": {
    "colab": {
      "provenance": []
    },
    "kernelspec": {
      "name": "python3",
      "display_name": "Python 3"
    },
    "language_info": {
      "name": "python"
    }
  },
  "cells": [
    {
      "cell_type": "code",
      "execution_count": 1,
      "metadata": {
        "colab": {
          "base_uri": "https://localhost:8080/"
        },
        "id": "HcjGZKkkVh6V",
        "outputId": "3588c897-4ee1-48fb-f54c-021068a011ea"
      },
      "outputs": [
        {
          "output_type": "stream",
          "name": "stdout",
          "text": [
            "2\n"
          ]
        }
      ],
      "source": [
        "# Question 1\n",
        "# Given an integer array nums of length n and an integer target, find three integers\n",
        "# in nums such that the sum is closest to the target.\n",
        "# Return the sum of the three integers.\n",
        "\n",
        "# You may assume that each input would have exactly one solution.\n",
        "\n",
        "# Example 1:\n",
        "# Input: nums = [-1,2,1,-4], target = 1\n",
        "# Output: 2\n",
        "\n",
        "# Explanation: The sum that is closest to the target is 2. (-1 + 2 + 1 = 2).\n",
        "\n",
        "\n",
        "def threeSumClosest(nums, target):\n",
        "    nums.sort()\n",
        "    n = len(nums)\n",
        "    closestSum = float('inf')\n",
        "\n",
        "    for i in range(n - 2):\n",
        "        left = i + 1\n",
        "        right = n - 1\n",
        "\n",
        "        while left < right:\n",
        "            currentSum = nums[i] + nums[left] + nums[right]\n",
        "\n",
        "            if currentSum == target:\n",
        "                return target\n",
        "\n",
        "            if abs(currentSum - target) < abs(closestSum - target):\n",
        "                closestSum = currentSum\n",
        "\n",
        "            if currentSum > target:\n",
        "                right -= 1\n",
        "            else:\n",
        "                left += 1\n",
        "\n",
        "    return closestSum\n",
        "\n",
        "nums = [-1, 2, 1, -4]\n",
        "target = 1\n",
        "print(threeSumClosest(nums, target))\n"
      ]
    },
    {
      "cell_type": "code",
      "source": [
        "# Question 2\n",
        "# Given an array nums of n integers, return an array of all the unique quadruplets\n",
        "# [nums[a], nums[b], nums[c], nums[d]] such that:\n",
        "#            ● 0 <= a, b, c, d < n\n",
        "#            ● a, b, c, and d are distinct.\n",
        "#            ● nums[a] + nums[b] + nums[c] + nums[d] == target\n",
        "\n",
        "# You may return the answer in any order.\n",
        "\n",
        "# Example 1:\n",
        "# Input: nums = [1,0,-1,0,-2,2], target = 0\n",
        "# Output: [[-2,-1,1,2],[-2,0,0,2],[-1,0,0,1]]\n",
        "\n",
        "\n",
        "\n",
        "def fourSum(nums, target):\n",
        "    nums.sort()\n",
        "    n = len(nums)\n",
        "    result = []\n",
        "\n",
        "    for i in range(n - 3):\n",
        "        if i > 0 and nums[i] == nums[i - 1]:\n",
        "            continue\n",
        "\n",
        "        for j in range(i + 1, n - 2):\n",
        "            if j > i + 1 and nums[j] == nums[j - 1]:\n",
        "                continue\n",
        "\n",
        "            left = j + 1\n",
        "            right = n - 1\n",
        "\n",
        "            while left < right:\n",
        "                currentSum = nums[i] + nums[j] + nums[left] + nums[right]\n",
        "\n",
        "                if currentSum == target:\n",
        "                    result.append([nums[i], nums[j], nums[left], nums[right]])\n",
        "                    left += 1\n",
        "                    right -= 1\n",
        "\n",
        "                    while left < right and nums[left] == nums[left - 1]:\n",
        "                        left += 1\n",
        "\n",
        "                    while left < right and nums[right] == nums[right + 1]:\n",
        "                        right -= 1\n",
        "\n",
        "                elif currentSum < target:\n",
        "                    left += 1\n",
        "                else:\n",
        "                    right -= 1\n",
        "\n",
        "    return result\n",
        "\n",
        "nums = [1, 0, -1, 0, -2, 2]\n",
        "target = 0\n",
        "print(fourSum(nums, target))\n"
      ],
      "metadata": {
        "colab": {
          "base_uri": "https://localhost:8080/"
        },
        "id": "5MVLQoakXbHO",
        "outputId": "5ea61bc3-0744-4272-d9c6-357035789ff3"
      },
      "execution_count": 2,
      "outputs": [
        {
          "output_type": "stream",
          "name": "stdout",
          "text": [
            "[[-2, -1, 1, 2], [-2, 0, 0, 2], [-1, 0, 0, 1]]\n"
          ]
        }
      ]
    },
    {
      "cell_type": "code",
      "source": [
        "\n",
        "# 💡 **Question 3**\n",
        "# A permutation of an array of integers is an arrangement of its members into a\n",
        "# sequence or linear order.\n",
        "\n",
        "# For example, for arr = [1,2,3], the following are all the permutations of arr:\n",
        "# [1,2,3], [1,3,2], [2, 1, 3], [2, 3, 1], [3,1,2], [3,2,1].\n",
        "\n",
        "# The next permutation of an array of integers is the next lexicographically greater\n",
        "# permutation of its integer. More formally, if all the permutations of the array are\n",
        "# sorted in one container according to their lexicographical order, then the next\n",
        "# permutation of that array is the permutation that follows it in the sorted container.\n",
        "\n",
        "# If such an arrangement is not possible, the array must be rearranged as the\n",
        "# lowest possible order (i.e., sorted in ascending order).\n",
        "\n",
        "# ● For example, the next permutation of arr = [1,2,3] is [1,3,2].\n",
        "# ● Similarly, the next permutation of arr = [2,3,1] is [3,1,2].\n",
        "# ● While the next permutation of arr = [3,2,1] is [1,2,3] because [3,2,1] does not\n",
        "# have a lexicographical larger rearrangement.\n",
        "\n",
        "# Given an array of integers nums, find the next permutation of nums.\n",
        "# The replacement must be in place and use only constant extra memory.\n",
        "\n",
        "# **Example 1:**\n",
        "# Input: nums = [1,2,3]\n",
        "# Output: [1,3,2]\n",
        "\n",
        "\n",
        "def nextPermutation(nums):\n",
        "    n = len(nums)\n",
        "    i = n - 2\n",
        "\n",
        "    # Find the first pair of consecutive elements where nums[i] < nums[i+1]\n",
        "    while i >= 0 and nums[i] >= nums[i + 1]:\n",
        "        i -= 1\n",
        "\n",
        "    if i >= 0:\n",
        "        j = n - 1\n",
        "\n",
        "        # Find the first element greater than nums[i]\n",
        "        while j > i and nums[j] <= nums[i]:\n",
        "            j -= 1\n",
        "\n",
        "        # Swap nums[i] and nums[j]\n",
        "        nums[i], nums[j] = nums[j], nums[i]\n",
        "\n",
        "    # Reverse the subarray starting from index i+1\n",
        "    left = i + 1\n",
        "    right = n - 1\n",
        "\n",
        "    while left < right:\n",
        "        nums[left], nums[right] = nums[right], nums[left]\n",
        "        left += 1\n",
        "        right -= 1\n",
        "\n",
        "    return nums\n",
        "\n",
        "nums = [1, 2, 3]\n",
        "print(nextPermutation(nums))\n",
        "\n"
      ],
      "metadata": {
        "colab": {
          "base_uri": "https://localhost:8080/"
        },
        "id": "DNVzQdZjX1JN",
        "outputId": "1d7de163-4d12-4543-b306-161e8c6dd56a"
      },
      "execution_count": 3,
      "outputs": [
        {
          "output_type": "stream",
          "name": "stdout",
          "text": [
            "[1, 3, 2]\n"
          ]
        }
      ]
    },
    {
      "cell_type": "code",
      "source": [
        "# Question 4\n",
        "# Given a sorted array of distinct integers and a target value, return the index if the\n",
        "# target is found. If not, return the index where it would be if it were inserted in\n",
        "# order.\n",
        "\n",
        "# You must write an algorithm with O(log n) runtime complexity.\n",
        "\n",
        "# Example 1:\n",
        "# Input: nums = [1,3,5,6], target = 5\n",
        "# Output: 2\n",
        "\n",
        "\n",
        "def searchInsert(nums, target):\n",
        "    left = 0\n",
        "    right = len(nums) - 1\n",
        "\n",
        "    while left <= right:\n",
        "        mid = (left + right) // 2\n",
        "\n",
        "        if nums[mid] == target:\n",
        "            return mid\n",
        "        elif nums[mid] < target:\n",
        "            left = mid + 1\n",
        "        else:\n",
        "            right = mid - 1\n",
        "\n",
        "    return left\n",
        "\n",
        "\n",
        "nums = [1, 3, 5, 6]\n",
        "target = 5\n",
        "print(searchInsert(nums, target))\n"
      ],
      "metadata": {
        "colab": {
          "base_uri": "https://localhost:8080/"
        },
        "id": "0cgRn8akYcEl",
        "outputId": "4e38db75-a4e8-48bb-841d-31830da43184"
      },
      "execution_count": 4,
      "outputs": [
        {
          "output_type": "stream",
          "name": "stdout",
          "text": [
            "2\n"
          ]
        }
      ]
    },
    {
      "cell_type": "code",
      "source": [
        "\n",
        "# 💡 **Question 5**\n",
        "# You are given a large integer represented as an integer array digits, where each\n",
        "# digits[i] is the ith digit of the integer. The digits are ordered from most significant\n",
        "# to least significant in left-to-right order. The large integer does not contain any\n",
        "# leading 0's.\n",
        "\n",
        "# Increment the large integer by one and return the resulting array of digits.\n",
        "\n",
        "# **Example 1:**\n",
        "# Input: digits = [1,2,3]\n",
        "# Output: [1,2,4]\n",
        "\n",
        "# **Explanation:** The array represents the integer 123.\n",
        "# Incrementing by one gives 123 + 1 = 124.\n",
        "# Thus, the result should be [1,2,4].\n",
        "\n",
        "\n",
        "\n",
        "def plusOne(digits):\n",
        "    n = len(digits)\n",
        "    carry = 1\n",
        "\n",
        "    for i in range(n - 1, -1, -1):\n",
        "        digits[i] += carry\n",
        "\n",
        "        if digits[i] < 10:\n",
        "            carry = 0\n",
        "            break\n",
        "        else:\n",
        "            digits[i] %= 10\n",
        "\n",
        "    if carry == 1:\n",
        "        digits.insert(0, 1)\n",
        "\n",
        "    return digits\n",
        "\n",
        "digits = [1, 2, 3]\n",
        "print(plusOne(digits))\n"
      ],
      "metadata": {
        "colab": {
          "base_uri": "https://localhost:8080/"
        },
        "id": "2ec0ungZY9DV",
        "outputId": "1c656c6c-4693-4b48-e21f-78f34bdd7cd2"
      },
      "execution_count": 5,
      "outputs": [
        {
          "output_type": "stream",
          "name": "stdout",
          "text": [
            "[1, 2, 4]\n"
          ]
        }
      ]
    },
    {
      "cell_type": "code",
      "source": [
        "# Question 6\n",
        "# Given a non-empty array of integers nums, every element appears twice except\n",
        "# for one. Find that single one.\n",
        "\n",
        "# You must implement a solution with a linear runtime complexity and use only\n",
        "# constant extra space.\n",
        "\n",
        "# Example 1:\n",
        "# Input: nums = [2,2,1]\n",
        "# Output: 1\n",
        "\n",
        "\n",
        "def singleNumber(nums):\n",
        "    result = 0\n",
        "    for num in nums:\n",
        "        result ^= num\n",
        "    return result\n",
        "\n",
        "nums = [2, 2, 1]\n",
        "print(singleNumber(nums))\n"
      ],
      "metadata": {
        "colab": {
          "base_uri": "https://localhost:8080/"
        },
        "id": "bIyAT1ouZQq3",
        "outputId": "314aeea9-43be-4aa7-9bc1-68b256d6feca"
      },
      "execution_count": 6,
      "outputs": [
        {
          "output_type": "stream",
          "name": "stdout",
          "text": [
            "1\n"
          ]
        }
      ]
    },
    {
      "cell_type": "code",
      "source": [
        "# Question 7\n",
        "# You are given an inclusive range [lower, upper] and a sorted unique integer array\n",
        "# nums, where all elements are within the inclusive range.\n",
        "\n",
        "# A number x is considered missing if x is in the range [lower, upper] and x is not in\n",
        "# nums.\n",
        "\n",
        "# Return the shortest sorted list of ranges that exactly covers all the missing\n",
        "# numbers. That is, no element of nums is included in any of the ranges, and each\n",
        "# missing number is covered by one of the ranges.\n",
        "\n",
        "# Example 1:\n",
        "# Input: nums = [0,1,3,50,75], lower = 0, upper = 99\n",
        "# Output: [[2,2],[4,49],[51,74],[76,99]]\n",
        "\n",
        "# Explanation: The ranges are:\n",
        "# [2,2]\n",
        "# [4,49]\n",
        "# [51,74]\n",
        "# [76,99]\n",
        "\n",
        "\n",
        "def findMissingRanges(nums, lower, upper):\n",
        "    result = []\n",
        "    start = lower\n",
        "\n",
        "    for num in nums:\n",
        "        if num == start:\n",
        "            start += 1\n",
        "        elif num > start:\n",
        "            result.append([start, num - 1])\n",
        "            start = num + 1\n",
        "\n",
        "    if start <= upper:\n",
        "        result.append([start, upper])\n",
        "\n",
        "    return result\n",
        "\n",
        "nums = [0, 1, 3, 50, 75]\n",
        "lower = 0\n",
        "upper = 99\n",
        "print(findMissingRanges(nums, lower, upper))\n"
      ],
      "metadata": {
        "colab": {
          "base_uri": "https://localhost:8080/"
        },
        "id": "e7a7miXiZhiF",
        "outputId": "99e2971a-3a9c-49c1-9ff1-35b59488f89a"
      },
      "execution_count": 7,
      "outputs": [
        {
          "output_type": "stream",
          "name": "stdout",
          "text": [
            "[[2, 2], [4, 49], [51, 74], [76, 99]]\n"
          ]
        }
      ]
    },
    {
      "cell_type": "code",
      "source": [
        "# Question 8\n",
        "# Given an array of meeting time intervals where intervals[i] = [starti, endi],\n",
        "# determine if a person could attend all meetings.\n",
        "\n",
        "# Example 1:\n",
        "# Input: intervals = [[0,30],[5,10],[15,20]]\n",
        "# Output: false\n",
        "\n",
        "\n",
        "def canAttendMeetings(intervals):\n",
        "    intervals.sort(key=lambda x: x[0])  # Sort intervals based on start time\n",
        "\n",
        "    for i in range(1, len(intervals)):\n",
        "        if intervals[i][0] < intervals[i-1][1]:\n",
        "            return False\n",
        "\n",
        "    return True\n",
        "\n",
        "intervals = [[0, 30], [5, 10], [15, 20]]\n",
        "print(canAttendMeetings(intervals))\n"
      ],
      "metadata": {
        "colab": {
          "base_uri": "https://localhost:8080/"
        },
        "id": "OwTUtlmrZtOi",
        "outputId": "d93d6710-4868-4fdd-ee74-0ae9f6097251"
      },
      "execution_count": 8,
      "outputs": [
        {
          "output_type": "stream",
          "name": "stdout",
          "text": [
            "False\n"
          ]
        }
      ]
    }
  ]
}